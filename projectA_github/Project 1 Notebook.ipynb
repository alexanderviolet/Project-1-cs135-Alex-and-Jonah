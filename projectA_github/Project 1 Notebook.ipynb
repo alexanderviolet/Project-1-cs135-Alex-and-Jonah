{
 "cells": [
  {
   "cell_type": "code",
   "execution_count": null,
   "id": "d4ca080e",
   "metadata": {},
   "outputs": [],
   "source": []
  },
  {
   "cell_type": "code",
   "execution_count": null,
   "id": "52977724",
   "metadata": {},
   "outputs": [],
   "source": []
  },
  {
   "cell_type": "code",
   "execution_count": null,
   "id": "15cf121f",
   "metadata": {},
   "outputs": [],
   "source": []
  },
  {
   "cell_type": "code",
   "execution_count": null,
   "id": "7e86425b",
   "metadata": {},
   "outputs": [],
   "source": [
    "# Importing Libraries\n",
    "\n",
    "import os\n",
    "import numpy as np\n",
    "import pandas as pd\n",
    "\n",
    "import sklearn.linear_model\n",
    "import\n",
    " sklearn.metricsfrom sklearn.feature_extraction.text import CountVectorizer  \n",
    "\n",
    "import re"
   ]
  },
  {
   "cell_type": "code",
   "execution_count": 28,
   "metadata": {},
   "outputs": [],
   "source": [
    "def remove_words_from_string(input_string, bad_words):\n",
    "    \"\"\"\n",
    "    Removes words from a string that also appear in a list.\n",
    "\n",
    "    Args:\n",
    "      input_string: x_train element of text.\n",
    "      word_list: stop words to filter out of.\n",
    "\n",
    "    Returns:\n",
    "      A new string with the specified words removed.\n",
    "    \"\"\"\n",
    "\n",
    "    words = input_string.split()  # Split the string into a list of words\n",
    "    new_string = []\n",
    "\n",
    "    for word in words:\n",
    "        if word not in bad_words:  # Check if the word is in the list\n",
    "            new_string.append(word)  # Add the word to the new list\n",
    "\n",
    "    return \" \".join(new_string)  # Join the words back into a string\n",
    "        "
   ]
  },
  {
   "cell_type": "code",
   "execution_count": 48,
   "id": "095101e1",
   "metadata": {},
   "outputs": [
    {
     "name": "stdout",
     "output_type": "stream",
     "text": [
      "Shape of x_train_df: (5557, 32)\n",
      "Shape of y_train_df: (5557, 5)\n",
      "Vocabulary: ['aaron' 'aback' 'abandon' ... 'zulus' 'zuniga' 'zuyder']\n",
      "[[6 5 4 ... 1 1 2]]\n"
     ]
    }
   ],
   "source": [
    "if __name__ == '__main__':\n",
    "    data_dir = 'data_readinglevel'\n",
    "    x_train_df = pd.read_csv(os.path.join(data_dir, 'x_train.csv'))\n",
    "    y_train_df = pd.read_csv(os.path.join(data_dir, 'y_train.csv'))\n",
    "\n",
    "    N, n_cols = x_train_df.shape\n",
    "    print(\"Shape of x_train_df: (%d, %d)\" % (N, n_cols))\n",
    "    print(\"Shape of y_train_df: %s\" % str(y_train_df.shape))\n",
    "\n",
    "    tr_text_list = x_train_df['text'].values.tolist()\n",
    "\n",
    "    # Make list of stopwords to filter text with\n",
    "    with open(\"stopwords.txt\", \"r\") as file:\n",
    "        stopwords_list = file.read()\n",
    "    stopwords = set(stopwords_list.splitlines())\n",
    "    stopwords = list(stopwords)\n",
    "\n",
    "    vectorizer = CountVectorizer()    # for bag of words  \n",
    "\n",
    "    # Make list / array to actually store elements\n",
    "    # text_array_N1 = np.empty((N,1))\n",
    "    element_list  = []\n",
    "    for element in tr_text_list:\n",
    "        element = re.sub('[^A-Za-z]', ' ', element) # Filter only letters and spaces\n",
    "        element = element.lower()                   # convert to lowercase\n",
    "        element = remove_words_from_string(element, stopwords)\n",
    "        \n",
    "        # TODO for testing\n",
    "        #print(element)\n",
    "        element_list.append(element)\n",
    "    # print(element_list)\n",
    "        \n",
    "\n",
    "    bag_of_words = vectorizer.fit_transform(element_list)\n",
    "    #see for yourself that bag_of_words contains correct information\n",
    "    #We see the first element in the dictionary is \"aaron\"\n",
    "    #from the second print statement we see there are 6 occurences of \"aaron\" across all texts\n",
    "    #control f'ing for \"aaron\" in x_train.csv shows there are indeed exactly 6 aarons\n",
    "    print(\"Vocabulary:\", vectorizer.get_feature_names_out())\n",
    "    print(np.asarray(bag_of_words.sum(axis=0)))\n",
    "\n",
    "    # print(\"tr_text_list\\n\", tr_text_list)\n",
    "    # print(\"element_list\\n\", element_list)\n",
    "    \n",
    "    # Print out 8 random entries\n",
    "#     prng = np.random.RandomState(101)\n",
    "#     rows = prng.permutation(np.arange(y_train_df.shape[0]))\n",
    "#     for row_id in rows[:8]:\n",
    "#         text = tr_text_list[row_id]\n",
    "#         print(\"row %5d | %s BY %s | y = %s\" % (\n",
    "#             row_id,\n",
    "#             y_train_df['title'].values[row_id],\n",
    "#             y_train_df['author'].values[row_id],\n",
    "#             y_train_df['Coarse Label'].values[row_id],\n",
    "#             ))\n",
    "#         # Pretty print text via textwrap library\n",
    "#         line_list = textwrap.wrap(tr_text_list[row_id],\n",
    "#             width=70,\n",
    "#             initial_indent='  ',\n",
    "#             subsequent_indent='  ')\n",
    "#         print('\\n'.join(line_list))\n",
    "#         print(\"\")\n",
    "        \n",
    "\n",
    "# Step 1:\n",
    "\n",
    "# Get Data (Done)\n",
    "# Use bag of words to \"clean\" and transform / vectorize code so that\n",
    "# logistic regression can actually be utilized\n",
    "# Readability metrics looks useful\n",
    "# Use data?"
   ]
  },
  {
   "cell_type": "code",
   "execution_count": null,
   "id": "a72cc3ce",
   "metadata": {},
   "outputs": [],
   "source": []
  }
 ],
 "metadata": {
  "kernelspec": {
   "display_name": "Python 3 (ipykernel)",
   "language": "python",
   "name": "python3"
  },
  "language_info": {
   "codemirror_mode": {
    "name": "ipython",
    "version": 3
   },
   "file_extension": ".py",
   "mimetype": "text/x-python",
   "name": "python",
   "nbconvert_exporter": "python",
   "pygments_lexer": "ipython3",
   "version": "3.11.11"
  }
 },
 "nbformat": 4,
 "nbformat_minor": 5
}
